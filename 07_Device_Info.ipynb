{
 "cells": [
  {
   "cell_type": "markdown",
   "metadata": {},
   "source": [
    "# Using InternetDB\n",
    "\n",
    "## Overview: Gather info on unique IP adresses\n",
    "\n",
    "\n",
    "---\n",
    "## Project Workflow:\n",
    "1. **Step 1: Install and Import Necessary Libraries**\n",
    "2. **Step 2: Load Data**\n",
    "3. **Step 3: Analyze Device IPs**\n",
    "\n"
   ]
  },
  {
   "cell_type": "markdown",
   "metadata": {},
   "source": [
    "# Step 1: Install and Import Necessary Libraries"
   ]
  },
  {
   "cell_type": "code",
   "execution_count": null,
   "metadata": {},
   "outputs": [
    {
     "ename": "AttributeError",
     "evalue": "module 'collections' has no attribute 'version'",
     "output_type": "error",
     "traceback": [
      "\u001b[31m---------------------------------------------------------------------------\u001b[39m",
      "\u001b[31mAttributeError\u001b[39m                            Traceback (most recent call last)",
      "\u001b[36mCell\u001b[39m\u001b[36m \u001b[39m\u001b[32mIn[4]\u001b[39m\u001b[32m, line 8\u001b[39m\n\u001b[32m      6\u001b[39m \u001b[38;5;28;01mfrom\u001b[39;00m\u001b[38;5;250m \u001b[39m\u001b[34;01mcollections\u001b[39;00m\u001b[38;5;250m \u001b[39m\u001b[38;5;28;01mimport\u001b[39;00m Counter\n\u001b[32m      7\u001b[39m \u001b[38;5;28;01mimport\u001b[39;00m\u001b[38;5;250m \u001b[39m\u001b[34;01mcollections\u001b[39;00m\n\u001b[32m----> \u001b[39m\u001b[32m8\u001b[39m \u001b[38;5;28mprint\u001b[39m(\u001b[43mcollections\u001b[49m\u001b[43m.\u001b[49m\u001b[43mversion\u001b[49m)\n",
      "\u001b[31mAttributeError\u001b[39m: module 'collections' has no attribute 'version'"
     ]
    }
   ],
   "source": [
    "import pandas as pd\n",
    "import numpy as np\n",
    "import matplotlib.pyplot as plt\n",
    "from scipy.stats import pearsonr\n",
    "import ast\n",
    "from collections import Counter"
   ]
  },
  {
   "cell_type": "markdown",
   "metadata": {},
   "source": [
    "# Step 2: Load Data - Only 2-Model System"
   ]
  },
  {
   "cell_type": "code",
   "execution_count": 338,
   "metadata": {},
   "outputs": [],
   "source": [
    "model_info = pd.read_csv(\"data/twoM_devices.csv\")"
   ]
  },
  {
   "cell_type": "code",
   "execution_count": 339,
   "metadata": {},
   "outputs": [
    {
     "data": {
      "text/html": [
       "<div>\n",
       "<style scoped>\n",
       "    .dataframe tbody tr th:only-of-type {\n",
       "        vertical-align: middle;\n",
       "    }\n",
       "\n",
       "    .dataframe tbody tr th {\n",
       "        vertical-align: top;\n",
       "    }\n",
       "\n",
       "    .dataframe thead th {\n",
       "        text-align: right;\n",
       "    }\n",
       "</style>\n",
       "<table border=\"1\" class=\"dataframe\">\n",
       "  <thead>\n",
       "    <tr style=\"text-align: right;\">\n",
       "      <th></th>\n",
       "      <th>src_mac</th>\n",
       "      <th>Model</th>\n",
       "      <th>Metric</th>\n",
       "      <th>Value</th>\n",
       "    </tr>\n",
       "  </thead>\n",
       "  <tbody>\n",
       "    <tr>\n",
       "      <th>24</th>\n",
       "      <td>AMCREST WiFi Camera</td>\n",
       "      <td>Binary Logistic Regression</td>\n",
       "      <td>Recall</td>\n",
       "      <td>0.971264</td>\n",
       "    </tr>\n",
       "    <tr>\n",
       "      <th>25</th>\n",
       "      <td>Amazon Echo Show</td>\n",
       "      <td>Binary Logistic Regression</td>\n",
       "      <td>Recall</td>\n",
       "      <td>0.997498</td>\n",
       "    </tr>\n",
       "    <tr>\n",
       "      <th>26</th>\n",
       "      <td>Arlo Q Indoor Camera</td>\n",
       "      <td>Binary Logistic Regression</td>\n",
       "      <td>Recall</td>\n",
       "      <td>1.000000</td>\n",
       "    </tr>\n",
       "    <tr>\n",
       "      <th>27</th>\n",
       "      <td>D-Link Mini Camera</td>\n",
       "      <td>Binary Logistic Regression</td>\n",
       "      <td>Recall</td>\n",
       "      <td>1.000000</td>\n",
       "    </tr>\n",
       "    <tr>\n",
       "      <th>28</th>\n",
       "      <td>HeimVision Smart WiFi Camera</td>\n",
       "      <td>Binary Logistic Regression</td>\n",
       "      <td>Recall</td>\n",
       "      <td>1.000000</td>\n",
       "    </tr>\n",
       "    <tr>\n",
       "      <th>29</th>\n",
       "      <td>Home Eye Camera</td>\n",
       "      <td>Binary Logistic Regression</td>\n",
       "      <td>Recall</td>\n",
       "      <td>1.000000</td>\n",
       "    </tr>\n",
       "    <tr>\n",
       "      <th>30</th>\n",
       "      <td>Nest Indoor Camera</td>\n",
       "      <td>Binary Logistic Regression</td>\n",
       "      <td>Recall</td>\n",
       "      <td>0.998818</td>\n",
       "    </tr>\n",
       "    <tr>\n",
       "      <th>31</th>\n",
       "      <td>Netatmo Camera</td>\n",
       "      <td>Binary Logistic Regression</td>\n",
       "      <td>Recall</td>\n",
       "      <td>0.999169</td>\n",
       "    </tr>\n",
       "    <tr>\n",
       "      <th>32</th>\n",
       "      <td>Rbcior Camera</td>\n",
       "      <td>Binary Logistic Regression</td>\n",
       "      <td>Recall</td>\n",
       "      <td>0.986111</td>\n",
       "    </tr>\n",
       "    <tr>\n",
       "      <th>33</th>\n",
       "      <td>TP-Link Tapo Camera</td>\n",
       "      <td>Binary Logistic Regression</td>\n",
       "      <td>Recall</td>\n",
       "      <td>0.998390</td>\n",
       "    </tr>\n",
       "    <tr>\n",
       "      <th>34</th>\n",
       "      <td>Wyze Camera</td>\n",
       "      <td>Binary Logistic Regression</td>\n",
       "      <td>Recall</td>\n",
       "      <td>0.992481</td>\n",
       "    </tr>\n",
       "    <tr>\n",
       "      <th>35</th>\n",
       "      <td>Yi Indoor Camera</td>\n",
       "      <td>Binary Logistic Regression</td>\n",
       "      <td>Recall</td>\n",
       "      <td>1.000000</td>\n",
       "    </tr>\n",
       "    <tr>\n",
       "      <th>36</th>\n",
       "      <td>AMCREST WiFi Camera</td>\n",
       "      <td>Random Forest</td>\n",
       "      <td>Recall</td>\n",
       "      <td>0.800000</td>\n",
       "    </tr>\n",
       "    <tr>\n",
       "      <th>37</th>\n",
       "      <td>Amazon Echo Show</td>\n",
       "      <td>Random Forest</td>\n",
       "      <td>Recall</td>\n",
       "      <td>0.970760</td>\n",
       "    </tr>\n",
       "    <tr>\n",
       "      <th>38</th>\n",
       "      <td>Arlo Q Indoor Camera</td>\n",
       "      <td>Random Forest</td>\n",
       "      <td>Recall</td>\n",
       "      <td>0.991312</td>\n",
       "    </tr>\n",
       "    <tr>\n",
       "      <th>39</th>\n",
       "      <td>D-Link Mini Camera</td>\n",
       "      <td>Random Forest</td>\n",
       "      <td>Recall</td>\n",
       "      <td>0.823529</td>\n",
       "    </tr>\n",
       "    <tr>\n",
       "      <th>40</th>\n",
       "      <td>HeimVision Smart WiFi Camera</td>\n",
       "      <td>Random Forest</td>\n",
       "      <td>Recall</td>\n",
       "      <td>0.890261</td>\n",
       "    </tr>\n",
       "    <tr>\n",
       "      <th>41</th>\n",
       "      <td>Home Eye Camera</td>\n",
       "      <td>Random Forest</td>\n",
       "      <td>Recall</td>\n",
       "      <td>0.853659</td>\n",
       "    </tr>\n",
       "    <tr>\n",
       "      <th>42</th>\n",
       "      <td>Nest Indoor Camera</td>\n",
       "      <td>Random Forest</td>\n",
       "      <td>Recall</td>\n",
       "      <td>0.943443</td>\n",
       "    </tr>\n",
       "    <tr>\n",
       "      <th>43</th>\n",
       "      <td>Netatmo Camera</td>\n",
       "      <td>Random Forest</td>\n",
       "      <td>Recall</td>\n",
       "      <td>0.935457</td>\n",
       "    </tr>\n",
       "    <tr>\n",
       "      <th>44</th>\n",
       "      <td>Rbcior Camera</td>\n",
       "      <td>Random Forest</td>\n",
       "      <td>Recall</td>\n",
       "      <td>0.912791</td>\n",
       "    </tr>\n",
       "    <tr>\n",
       "      <th>45</th>\n",
       "      <td>TP-Link Tapo Camera</td>\n",
       "      <td>Random Forest</td>\n",
       "      <td>Recall</td>\n",
       "      <td>0.888489</td>\n",
       "    </tr>\n",
       "    <tr>\n",
       "      <th>46</th>\n",
       "      <td>Wyze Camera</td>\n",
       "      <td>Random Forest</td>\n",
       "      <td>Recall</td>\n",
       "      <td>0.772401</td>\n",
       "    </tr>\n",
       "    <tr>\n",
       "      <th>47</th>\n",
       "      <td>Yi Indoor Camera</td>\n",
       "      <td>Random Forest</td>\n",
       "      <td>Recall</td>\n",
       "      <td>0.770492</td>\n",
       "    </tr>\n",
       "  </tbody>\n",
       "</table>\n",
       "</div>"
      ],
      "text/plain": [
       "                         src_mac                       Model  Metric     Value\n",
       "24           AMCREST WiFi Camera  Binary Logistic Regression  Recall  0.971264\n",
       "25              Amazon Echo Show  Binary Logistic Regression  Recall  0.997498\n",
       "26          Arlo Q Indoor Camera  Binary Logistic Regression  Recall  1.000000\n",
       "27            D-Link Mini Camera  Binary Logistic Regression  Recall  1.000000\n",
       "28  HeimVision Smart WiFi Camera  Binary Logistic Regression  Recall  1.000000\n",
       "29               Home Eye Camera  Binary Logistic Regression  Recall  1.000000\n",
       "30            Nest Indoor Camera  Binary Logistic Regression  Recall  0.998818\n",
       "31                Netatmo Camera  Binary Logistic Regression  Recall  0.999169\n",
       "32                 Rbcior Camera  Binary Logistic Regression  Recall  0.986111\n",
       "33           TP-Link Tapo Camera  Binary Logistic Regression  Recall  0.998390\n",
       "34                   Wyze Camera  Binary Logistic Regression  Recall  0.992481\n",
       "35              Yi Indoor Camera  Binary Logistic Regression  Recall  1.000000\n",
       "36           AMCREST WiFi Camera               Random Forest  Recall  0.800000\n",
       "37              Amazon Echo Show               Random Forest  Recall  0.970760\n",
       "38          Arlo Q Indoor Camera               Random Forest  Recall  0.991312\n",
       "39            D-Link Mini Camera               Random Forest  Recall  0.823529\n",
       "40  HeimVision Smart WiFi Camera               Random Forest  Recall  0.890261\n",
       "41               Home Eye Camera               Random Forest  Recall  0.853659\n",
       "42            Nest Indoor Camera               Random Forest  Recall  0.943443\n",
       "43                Netatmo Camera               Random Forest  Recall  0.935457\n",
       "44                 Rbcior Camera               Random Forest  Recall  0.912791\n",
       "45           TP-Link Tapo Camera               Random Forest  Recall  0.888489\n",
       "46                   Wyze Camera               Random Forest  Recall  0.772401\n",
       "47              Yi Indoor Camera               Random Forest  Recall  0.770492"
      ]
     },
     "execution_count": 339,
     "metadata": {},
     "output_type": "execute_result"
    }
   ],
   "source": [
    "model_info = model_info[model_info['Metric'] == 'Recall']\n",
    "model_info"
   ]
  },
  {
   "cell_type": "code",
   "execution_count": 340,
   "metadata": {},
   "outputs": [
    {
     "data": {
      "text/html": [
       "<div>\n",
       "<style scoped>\n",
       "    .dataframe tbody tr th:only-of-type {\n",
       "        vertical-align: middle;\n",
       "    }\n",
       "\n",
       "    .dataframe tbody tr th {\n",
       "        vertical-align: top;\n",
       "    }\n",
       "\n",
       "    .dataframe thead th {\n",
       "        text-align: right;\n",
       "    }\n",
       "</style>\n",
       "<table border=\"1\" class=\"dataframe\">\n",
       "  <thead>\n",
       "    <tr style=\"text-align: right;\">\n",
       "      <th></th>\n",
       "      <th>camera_model</th>\n",
       "      <th>Recall</th>\n",
       "    </tr>\n",
       "  </thead>\n",
       "  <tbody>\n",
       "    <tr>\n",
       "      <th>0</th>\n",
       "      <td>AMCREST WiFi Camera</td>\n",
       "      <td>0.885632</td>\n",
       "    </tr>\n",
       "    <tr>\n",
       "      <th>1</th>\n",
       "      <td>Amazon Echo Show</td>\n",
       "      <td>0.984129</td>\n",
       "    </tr>\n",
       "    <tr>\n",
       "      <th>2</th>\n",
       "      <td>Arlo Q Indoor Camera</td>\n",
       "      <td>0.995656</td>\n",
       "    </tr>\n",
       "    <tr>\n",
       "      <th>3</th>\n",
       "      <td>D-Link Mini Camera</td>\n",
       "      <td>0.911765</td>\n",
       "    </tr>\n",
       "    <tr>\n",
       "      <th>4</th>\n",
       "      <td>HeimVision Smart WiFi Camera</td>\n",
       "      <td>0.945130</td>\n",
       "    </tr>\n",
       "    <tr>\n",
       "      <th>5</th>\n",
       "      <td>Home Eye Camera</td>\n",
       "      <td>0.926829</td>\n",
       "    </tr>\n",
       "    <tr>\n",
       "      <th>6</th>\n",
       "      <td>Nest Indoor Camera</td>\n",
       "      <td>0.971131</td>\n",
       "    </tr>\n",
       "    <tr>\n",
       "      <th>7</th>\n",
       "      <td>Netatmo Camera</td>\n",
       "      <td>0.967313</td>\n",
       "    </tr>\n",
       "    <tr>\n",
       "      <th>8</th>\n",
       "      <td>Rbcior Camera</td>\n",
       "      <td>0.949451</td>\n",
       "    </tr>\n",
       "    <tr>\n",
       "      <th>9</th>\n",
       "      <td>TP-Link Tapo Camera</td>\n",
       "      <td>0.943439</td>\n",
       "    </tr>\n",
       "    <tr>\n",
       "      <th>10</th>\n",
       "      <td>Wyze Camera</td>\n",
       "      <td>0.882441</td>\n",
       "    </tr>\n",
       "    <tr>\n",
       "      <th>11</th>\n",
       "      <td>Yi Indoor Camera</td>\n",
       "      <td>0.885246</td>\n",
       "    </tr>\n",
       "  </tbody>\n",
       "</table>\n",
       "</div>"
      ],
      "text/plain": [
       "                    camera_model    Recall\n",
       "0            AMCREST WiFi Camera  0.885632\n",
       "1               Amazon Echo Show  0.984129\n",
       "2           Arlo Q Indoor Camera  0.995656\n",
       "3             D-Link Mini Camera  0.911765\n",
       "4   HeimVision Smart WiFi Camera  0.945130\n",
       "5                Home Eye Camera  0.926829\n",
       "6             Nest Indoor Camera  0.971131\n",
       "7                 Netatmo Camera  0.967313\n",
       "8                  Rbcior Camera  0.949451\n",
       "9            TP-Link Tapo Camera  0.943439\n",
       "10                   Wyze Camera  0.882441\n",
       "11              Yi Indoor Camera  0.885246"
      ]
     },
     "execution_count": 340,
     "metadata": {},
     "output_type": "execute_result"
    }
   ],
   "source": [
    "model_info = model_info.groupby('src_mac')['Value'].mean().reset_index()\n",
    "\n",
    "model_info.columns = ['src_mac', 'Recall']\n",
    "model_info = model_info.rename(columns={'src_mac': 'camera_model'})\n",
    "\n",
    "model_info"
   ]
  },
  {
   "cell_type": "code",
   "execution_count": 341,
   "metadata": {},
   "outputs": [
    {
     "name": "stdout",
     "output_type": "stream",
     "text": [
      "<class 'pandas.core.frame.DataFrame'>\n",
      "RangeIndex: 12 entries, 0 to 11\n",
      "Data columns (total 2 columns):\n",
      " #   Column        Non-Null Count  Dtype  \n",
      "---  ------        --------------  -----  \n",
      " 0   camera_model  12 non-null     object \n",
      " 1   Recall        12 non-null     float64\n",
      "dtypes: float64(1), object(1)\n",
      "memory usage: 324.0+ bytes\n"
     ]
    }
   ],
   "source": [
    "model_info.info()"
   ]
  },
  {
   "cell_type": "markdown",
   "metadata": {},
   "source": [
    "## load IP Data"
   ]
  },
  {
   "cell_type": "code",
   "execution_count": 342,
   "metadata": {},
   "outputs": [],
   "source": [
    "IP_data = pd.read_csv(\"data/IP_data.csv\")"
   ]
  },
  {
   "cell_type": "code",
   "execution_count": 343,
   "metadata": {},
   "outputs": [
    {
     "name": "stdout",
     "output_type": "stream",
     "text": [
      "<class 'pandas.core.frame.DataFrame'>\n",
      "RangeIndex: 264 entries, 0 to 263\n",
      "Data columns (total 5 columns):\n",
      " #   Column        Non-Null Count  Dtype \n",
      "---  ------        --------------  ----- \n",
      " 0   IP            264 non-null    object\n",
      " 1   open_ports    264 non-null    object\n",
      " 2   tags          264 non-null    object\n",
      " 3   vulns         264 non-null    object\n",
      " 4   camera_model  264 non-null    object\n",
      "dtypes: object(5)\n",
      "memory usage: 10.4+ KB\n"
     ]
    }
   ],
   "source": [
    "IP_data.info()"
   ]
  },
  {
   "cell_type": "code",
   "execution_count": null,
   "metadata": {},
   "outputs": [],
   "source": [
    "# fixing the data types\n",
    "IP_data['tags'] = IP_data['tags'].apply(ast.literal_eval)\n",
    "IP_data['open_ports'] = IP_data['open_ports'].apply(ast.literal_eval)\n",
    "IP_data['vulns'] = IP_data['vulns'].apply(ast.literal_eval)"
   ]
  },
  {
   "cell_type": "code",
   "execution_count": 345,
   "metadata": {},
   "outputs": [
    {
     "data": {
      "text/html": [
       "<div>\n",
       "<style scoped>\n",
       "    .dataframe tbody tr th:only-of-type {\n",
       "        vertical-align: middle;\n",
       "    }\n",
       "\n",
       "    .dataframe tbody tr th {\n",
       "        vertical-align: top;\n",
       "    }\n",
       "\n",
       "    .dataframe thead th {\n",
       "        text-align: right;\n",
       "    }\n",
       "</style>\n",
       "<table border=\"1\" class=\"dataframe\">\n",
       "  <thead>\n",
       "    <tr style=\"text-align: right;\">\n",
       "      <th></th>\n",
       "      <th>IP</th>\n",
       "      <th>open_ports</th>\n",
       "      <th>tags</th>\n",
       "      <th>vulns</th>\n",
       "      <th>camera_model</th>\n",
       "    </tr>\n",
       "  </thead>\n",
       "  <tbody>\n",
       "    <tr>\n",
       "      <th>27</th>\n",
       "      <td>34.213.103.51</td>\n",
       "      <td>[1883]</td>\n",
       "      <td>[cloud]</td>\n",
       "      <td>[]</td>\n",
       "      <td>Rbcior Camera</td>\n",
       "    </tr>\n",
       "    <tr>\n",
       "      <th>8</th>\n",
       "      <td>44.230.212.240</td>\n",
       "      <td>[80, 443]</td>\n",
       "      <td>[self-signed, cloud]</td>\n",
       "      <td>[]</td>\n",
       "      <td>Rbcior Camera</td>\n",
       "    </tr>\n",
       "    <tr>\n",
       "      <th>102</th>\n",
       "      <td>52.218.132.217</td>\n",
       "      <td>[80, 443, 444]</td>\n",
       "      <td>[cloud]</td>\n",
       "      <td>[]</td>\n",
       "      <td>Rbcior Camera</td>\n",
       "    </tr>\n",
       "    <tr>\n",
       "      <th>59</th>\n",
       "      <td>44.231.176.168</td>\n",
       "      <td>[80, 443]</td>\n",
       "      <td>[self-signed, cloud]</td>\n",
       "      <td>[]</td>\n",
       "      <td>Rbcior Camera</td>\n",
       "    </tr>\n",
       "    <tr>\n",
       "      <th>123</th>\n",
       "      <td>54.188.99.4</td>\n",
       "      <td>[1883]</td>\n",
       "      <td>[cloud]</td>\n",
       "      <td>[]</td>\n",
       "      <td>Rbcior Camera</td>\n",
       "    </tr>\n",
       "  </tbody>\n",
       "</table>\n",
       "</div>"
      ],
      "text/plain": [
       "                 IP      open_ports                  tags vulns   camera_model\n",
       "27    34.213.103.51          [1883]               [cloud]    []  Rbcior Camera\n",
       "8    44.230.212.240       [80, 443]  [self-signed, cloud]    []  Rbcior Camera\n",
       "102  52.218.132.217  [80, 443, 444]               [cloud]    []  Rbcior Camera\n",
       "59   44.231.176.168       [80, 443]  [self-signed, cloud]    []  Rbcior Camera\n",
       "123     54.188.99.4          [1883]               [cloud]    []  Rbcior Camera"
      ]
     },
     "execution_count": 345,
     "metadata": {},
     "output_type": "execute_result"
    }
   ],
   "source": [
    "IP_data[IP_data['camera_model'] == 'Rbcior Camera'].sample(5)\n",
    "\n"
   ]
  },
  {
   "cell_type": "markdown",
   "metadata": {},
   "source": [
    "# Step 3: Analyze Device IPs"
   ]
  },
  {
   "cell_type": "markdown",
   "metadata": {},
   "source": [
    "## Merge dfs"
   ]
  },
  {
   "cell_type": "code",
   "execution_count": 346,
   "metadata": {},
   "outputs": [],
   "source": [
    "IP_data = pd.merge(IP_data, model_info, on='camera_model', how='left')"
   ]
  },
  {
   "cell_type": "code",
   "execution_count": 347,
   "metadata": {},
   "outputs": [
    {
     "name": "stdout",
     "output_type": "stream",
     "text": [
      "<class 'pandas.core.frame.DataFrame'>\n",
      "RangeIndex: 264 entries, 0 to 263\n",
      "Data columns (total 6 columns):\n",
      " #   Column        Non-Null Count  Dtype  \n",
      "---  ------        --------------  -----  \n",
      " 0   IP            264 non-null    object \n",
      " 1   open_ports    264 non-null    object \n",
      " 2   tags          264 non-null    object \n",
      " 3   vulns         264 non-null    object \n",
      " 4   camera_model  264 non-null    object \n",
      " 5   Recall        264 non-null    float64\n",
      "dtypes: float64(1), object(5)\n",
      "memory usage: 12.5+ KB\n"
     ]
    }
   ],
   "source": [
    "IP_data.info()"
   ]
  },
  {
   "cell_type": "code",
   "execution_count": 348,
   "metadata": {},
   "outputs": [
    {
     "data": {
      "text/html": [
       "<div>\n",
       "<style scoped>\n",
       "    .dataframe tbody tr th:only-of-type {\n",
       "        vertical-align: middle;\n",
       "    }\n",
       "\n",
       "    .dataframe tbody tr th {\n",
       "        vertical-align: top;\n",
       "    }\n",
       "\n",
       "    .dataframe thead th {\n",
       "        text-align: right;\n",
       "    }\n",
       "</style>\n",
       "<table border=\"1\" class=\"dataframe\">\n",
       "  <thead>\n",
       "    <tr style=\"text-align: right;\">\n",
       "      <th></th>\n",
       "      <th>IP</th>\n",
       "      <th>open_ports</th>\n",
       "      <th>tags</th>\n",
       "      <th>vulns</th>\n",
       "      <th>camera_model</th>\n",
       "      <th>Recall</th>\n",
       "    </tr>\n",
       "  </thead>\n",
       "  <tbody>\n",
       "    <tr>\n",
       "      <th>170</th>\n",
       "      <td>100.20.197.85</td>\n",
       "      <td>[80, 443]</td>\n",
       "      <td>[cloud]</td>\n",
       "      <td>[]</td>\n",
       "      <td>Wyze Camera</td>\n",
       "      <td>0.882441</td>\n",
       "    </tr>\n",
       "    <tr>\n",
       "      <th>162</th>\n",
       "      <td>35.163.109.225</td>\n",
       "      <td>[443]</td>\n",
       "      <td>[cloud]</td>\n",
       "      <td>[]</td>\n",
       "      <td>Wyze Camera</td>\n",
       "      <td>0.882441</td>\n",
       "    </tr>\n",
       "    <tr>\n",
       "      <th>213</th>\n",
       "      <td>34.242.106.87</td>\n",
       "      <td>[80, 443]</td>\n",
       "      <td>[cloud]</td>\n",
       "      <td>[]</td>\n",
       "      <td>Arlo Q Indoor Camera</td>\n",
       "      <td>0.995656</td>\n",
       "    </tr>\n",
       "    <tr>\n",
       "      <th>144</th>\n",
       "      <td>52.119.198.2</td>\n",
       "      <td>[443]</td>\n",
       "      <td>[cloud]</td>\n",
       "      <td>[]</td>\n",
       "      <td>Amazon Echo Show</td>\n",
       "      <td>0.984129</td>\n",
       "    </tr>\n",
       "    <tr>\n",
       "      <th>8</th>\n",
       "      <td>44.230.212.240</td>\n",
       "      <td>[80, 443]</td>\n",
       "      <td>[self-signed, cloud]</td>\n",
       "      <td>[]</td>\n",
       "      <td>Rbcior Camera</td>\n",
       "      <td>0.949451</td>\n",
       "    </tr>\n",
       "  </tbody>\n",
       "</table>\n",
       "</div>"
      ],
      "text/plain": [
       "                 IP open_ports                  tags vulns  \\\n",
       "170   100.20.197.85  [80, 443]               [cloud]    []   \n",
       "162  35.163.109.225      [443]               [cloud]    []   \n",
       "213   34.242.106.87  [80, 443]               [cloud]    []   \n",
       "144    52.119.198.2      [443]               [cloud]    []   \n",
       "8    44.230.212.240  [80, 443]  [self-signed, cloud]    []   \n",
       "\n",
       "             camera_model    Recall  \n",
       "170           Wyze Camera  0.882441  \n",
       "162           Wyze Camera  0.882441  \n",
       "213  Arlo Q Indoor Camera  0.995656  \n",
       "144      Amazon Echo Show  0.984129  \n",
       "8           Rbcior Camera  0.949451  "
      ]
     },
     "execution_count": 348,
     "metadata": {},
     "output_type": "execute_result"
    }
   ],
   "source": [
    "IP_data.sample(5)"
   ]
  },
  {
   "cell_type": "markdown",
   "metadata": {},
   "source": [
    "## Analysis"
   ]
  },
  {
   "cell_type": "markdown",
   "metadata": {},
   "source": [
    "### Does number of Open Ports affect recall?"
   ]
  },
  {
   "cell_type": "code",
   "execution_count": 349,
   "metadata": {},
   "outputs": [
    {
     "data": {
      "text/html": [
       "<div>\n",
       "<style scoped>\n",
       "    .dataframe tbody tr th:only-of-type {\n",
       "        vertical-align: middle;\n",
       "    }\n",
       "\n",
       "    .dataframe tbody tr th {\n",
       "        vertical-align: top;\n",
       "    }\n",
       "\n",
       "    .dataframe thead th {\n",
       "        text-align: right;\n",
       "    }\n",
       "</style>\n",
       "<table border=\"1\" class=\"dataframe\">\n",
       "  <thead>\n",
       "    <tr style=\"text-align: right;\">\n",
       "      <th></th>\n",
       "      <th>camera_model</th>\n",
       "      <th>num_OPs</th>\n",
       "    </tr>\n",
       "  </thead>\n",
       "  <tbody>\n",
       "    <tr>\n",
       "      <th>103</th>\n",
       "      <td>Arlo Q Indoor Camera</td>\n",
       "      <td>2</td>\n",
       "    </tr>\n",
       "    <tr>\n",
       "      <th>97</th>\n",
       "      <td>Netatmo Camera</td>\n",
       "      <td>1</td>\n",
       "    </tr>\n",
       "    <tr>\n",
       "      <th>249</th>\n",
       "      <td>Amazon Echo Show</td>\n",
       "      <td>1</td>\n",
       "    </tr>\n",
       "    <tr>\n",
       "      <th>69</th>\n",
       "      <td>Amazon Echo Show</td>\n",
       "      <td>2</td>\n",
       "    </tr>\n",
       "    <tr>\n",
       "      <th>146</th>\n",
       "      <td>Rbcior Camera</td>\n",
       "      <td>3</td>\n",
       "    </tr>\n",
       "  </tbody>\n",
       "</table>\n",
       "</div>"
      ],
      "text/plain": [
       "             camera_model  num_OPs\n",
       "103  Arlo Q Indoor Camera        2\n",
       "97         Netatmo Camera        1\n",
       "249      Amazon Echo Show        1\n",
       "69       Amazon Echo Show        2\n",
       "146         Rbcior Camera        3"
      ]
     },
     "execution_count": 349,
     "metadata": {},
     "output_type": "execute_result"
    }
   ],
   "source": [
    "def count_OPs(ops):\n",
    "    return len(ops)\n",
    "\n",
    "IP_data['num_OPs'] = IP_data['open_ports'].apply(count_OPs)\n",
    "\n",
    "IP_data[['camera_model', 'num_OPs']].sample(5)"
   ]
  },
  {
   "cell_type": "code",
   "execution_count": null,
   "metadata": {},
   "outputs": [
    {
     "name": "stdout",
     "output_type": "stream",
     "text": [
      "Pearson correlation coefficient: -0.10533254125620509\n",
      "P-value: 0.08762061751214718\n"
     ]
    }
   ],
   "source": [
    "correlation, p_value = pearsonr(IP_data['num_OPs'], IP_data['Recall'])\n",
    "\n",
    "print(f\"Pearson coefficient: {correlation}\")\n",
    "print(f\"p-value: {p_value}\")"
   ]
  },
  {
   "cell_type": "markdown",
   "metadata": {},
   "source": [
    "!!! no significant negative correlation with number of open ports with recall score"
   ]
  },
  {
   "cell_type": "code",
   "execution_count": null,
   "metadata": {},
   "outputs": [
    {
     "name": "stdout",
     "output_type": "stream",
     "text": [
      "Counter({443: 235, 80: 183, 1883: 15, 1443: 4, 444: 4, 10001: 3, 53: 3, 8080: 3, 32100: 3, 2121: 1, 5003: 1, 25: 1, 110: 1, 587: 1, 993: 1, 995: 1, 2003: 1, 22: 1, 123: 1, 8006: 1, 9200: 1, 3001: 1, 6000: 1, 8088: 1, 5000: 1, 7415: 1, 26656: 1, 5432: 1, 9109: 1})\n",
      "Port 10001 has a significant p-value: 0.030497468448190675, Pearson correlation: -0.1331966145043893\n",
      "Port 8080 has a significant p-value: 0.03957262126773755, Pearson correlation: -0.12676245333964423\n",
      "Port 32100 has a significant p-value: 0.03957262126773755, Pearson correlation: -0.12676245333964423\n"
     ]
    }
   ],
   "source": [
    "port_counts = Counter(port for port_list in IP_data['open_ports'] for port in port_list)\n",
    "\n",
    "print(port_counts)\n",
    "\n",
    "for port in port_counts.keys():\n",
    "    IP_data[f'port_{port}'] = IP_data['open_ports'].apply(lambda ports: 1 if port in ports else 0)\n",
    "\n",
    "for port in port_counts.keys():\n",
    "    correlation, p_value = pearsonr(IP_data[f'port_{port}'], IP_data['Recall'])\n",
    "    if p_value < 0.05:\n",
    "        print(f\"Port {port} is significant. p-value: {p_value}, Pearson coefficient: {correlation}\")\n"
   ]
  },
  {
   "cell_type": "markdown",
   "metadata": {},
   "source": [
    "#### Results\n",
    "- Port 10001\n",
    "    - P2P live streaming on cameras like Wyze\n",
    "- port 8080\n",
    "    - port 80 alternative\n",
    "    - http traffic\n",
    "    - might suggest web server traffic, proxy server usage, or testing and development activities\n",
    "- port 32100\n",
    "    - common for p2p communication for many IoT cameras\n",
    "\n",
    "- P2P is a way for computers and devices to communicate directly with each other without needing a central server\n",
    "    - share data directly\n",
    "    - file sharing\n"
   ]
  },
  {
   "cell_type": "markdown",
   "metadata": {},
   "source": [
    "### Does num Vulnurabilities affect recall?"
   ]
  },
  {
   "cell_type": "code",
   "execution_count": 352,
   "metadata": {},
   "outputs": [
    {
     "data": {
      "text/html": [
       "<div>\n",
       "<style scoped>\n",
       "    .dataframe tbody tr th:only-of-type {\n",
       "        vertical-align: middle;\n",
       "    }\n",
       "\n",
       "    .dataframe tbody tr th {\n",
       "        vertical-align: top;\n",
       "    }\n",
       "\n",
       "    .dataframe thead th {\n",
       "        text-align: right;\n",
       "    }\n",
       "</style>\n",
       "<table border=\"1\" class=\"dataframe\">\n",
       "  <thead>\n",
       "    <tr style=\"text-align: right;\">\n",
       "      <th></th>\n",
       "      <th>camera_model</th>\n",
       "      <th>num_vulns</th>\n",
       "    </tr>\n",
       "  </thead>\n",
       "  <tbody>\n",
       "    <tr>\n",
       "      <th>90</th>\n",
       "      <td>Amazon Echo Show</td>\n",
       "      <td>0</td>\n",
       "    </tr>\n",
       "    <tr>\n",
       "      <th>87</th>\n",
       "      <td>Wyze Camera</td>\n",
       "      <td>0</td>\n",
       "    </tr>\n",
       "    <tr>\n",
       "      <th>247</th>\n",
       "      <td>Wyze Camera</td>\n",
       "      <td>0</td>\n",
       "    </tr>\n",
       "    <tr>\n",
       "      <th>19</th>\n",
       "      <td>Amazon Echo Show</td>\n",
       "      <td>0</td>\n",
       "    </tr>\n",
       "    <tr>\n",
       "      <th>151</th>\n",
       "      <td>Amazon Echo Show</td>\n",
       "      <td>0</td>\n",
       "    </tr>\n",
       "  </tbody>\n",
       "</table>\n",
       "</div>"
      ],
      "text/plain": [
       "         camera_model  num_vulns\n",
       "90   Amazon Echo Show          0\n",
       "87        Wyze Camera          0\n",
       "247       Wyze Camera          0\n",
       "19   Amazon Echo Show          0\n",
       "151  Amazon Echo Show          0"
      ]
     },
     "execution_count": 352,
     "metadata": {},
     "output_type": "execute_result"
    }
   ],
   "source": [
    "def count_vulns(vulns):\n",
    "    return len(vulns)\n",
    "\n",
    "IP_data['num_vulns'] = IP_data['vulns'].apply(count_vulns)\n",
    "\n",
    "IP_data[['camera_model', 'num_vulns']].sample(5)"
   ]
  },
  {
   "cell_type": "code",
   "execution_count": null,
   "metadata": {},
   "outputs": [
    {
     "name": "stdout",
     "output_type": "stream",
     "text": [
      "Pearson correlation coefficient: -0.12440415742583635\n",
      "P-value: 0.043426063045677435\n"
     ]
    }
   ],
   "source": [
    "# Perform Pearson correlation test\n",
    "correlation, p_value = pearsonr(IP_data['num_vulns'], IP_data['Recall'])\n",
    "\n",
    "# Print the results\n",
    "print(f\"Pearson coefficient: {correlation}\")\n",
    "print(f\"p-value: {p_value}\")\n"
   ]
  },
  {
   "cell_type": "markdown",
   "metadata": {},
   "source": [
    "#### Results\n",
    "significant negative correlation with number of vulnurabilities with recall score"
   ]
  },
  {
   "cell_type": "markdown",
   "metadata": {},
   "source": [
    "### Investigate specific vulns on each camera model and what they correspond to\n",
    "\n"
   ]
  },
  {
   "cell_type": "code",
   "execution_count": null,
   "metadata": {},
   "outputs": [
    {
     "name": "stdout",
     "output_type": "stream",
     "text": [
      "Counter({'CVE-2011-1176': 5, 'CVE-2012-3526': 5, 'CVE-2013-2765': 5, 'CVE-2007-4723': 5, 'CVE-2012-4360': 5, 'CVE-2013-4365': 5, 'CVE-2013-0942': 5, 'CVE-2009-2299': 5, 'CVE-2009-0796': 5, 'CVE-2011-2688': 5, 'CVE-2012-4001': 5, 'CVE-2013-0941': 5, 'CVE-2023-44487': 5, 'CVE-2021-3618': 5, 'CVE-2021-23017': 5, 'CVE-2019-9516': 4, 'CVE-2019-9511': 4, 'CVE-2019-9513': 4, 'CVE-2019-20372': 4, 'CVE-2018-1302': 4, 'CVE-2018-1303': 4, 'CVE-2022-22720': 4, 'CVE-2021-39275': 4, 'CVE-2022-28614': 4, 'CVE-2021-40438': 4, 'CVE-2021-32786': 4, 'CVE-2022-29404': 4, 'CVE-2021-32792': 4, 'CVE-2022-28615': 4, 'CVE-2016-8612': 4, 'CVE-2021-32785': 4, 'CVE-2021-44790': 4, 'CVE-2022-37436': 4, 'CVE-2023-31122': 4, 'CVE-2018-1301': 4, 'CVE-2006-20001': 4, 'CVE-2021-34798': 4, 'CVE-2017-9798': 4, 'CVE-2021-32791': 4, 'CVE-2022-31813': 4, 'CVE-2022-28330': 4, 'CVE-2024-40898': 4, 'CVE-2022-22721': 4, 'CVE-2022-30556': 4, 'CVE-2022-22719': 4, 'CVE-2019-11358': 3, 'CVE-2020-11023': 3, 'CVE-2020-11022': 3, 'CVE-2021-26690': 3, 'CVE-2017-9788': 3, 'CVE-2016-8743': 3, 'CVE-2021-33193': 3, 'CVE-2019-0196': 3, 'CVE-2020-35452': 3, 'CVE-2017-3169': 3, 'CVE-2018-17199': 3, 'CVE-2016-4975': 3, 'CVE-2022-36760': 3, 'CVE-2023-45802': 3, 'CVE-2018-1312': 3, 'CVE-2022-23943': 3, 'CVE-2017-7679': 3, 'CVE-2016-4979': 3, 'CVE-2019-0211': 3, 'CVE-2019-10082': 3, 'CVE-2024-38474': 3, 'CVE-2019-0217': 3, 'CVE-2024-38476': 3, 'CVE-2016-5387': 3, 'CVE-2017-15710': 3, 'CVE-2019-10098': 3, 'CVE-2019-10092': 3, 'CVE-2022-26377': 3, 'CVE-2023-25690': 3, 'CVE-2020-1927': 3, 'CVE-2017-3167': 3, 'CVE-2021-44224': 3, 'CVE-2020-1934': 3, 'CVE-2021-26691': 3, 'CVE-2019-0220': 3, 'CVE-2024-27316': 3, 'CVE-2024-38477': 3, 'CVE-2017-15715': 3, 'CVE-2020-13938': 3, 'CVE-2019-17567': 3, 'CVE-2020-11985': 3, 'CVE-2016-1546': 3, 'CVE-2018-1333': 3, 'CVE-2016-8740': 3, 'CVE-2018-1283': 3, 'CVE-2018-17189': 3, 'CVE-2018-11763': 3, 'CVE-2018-16844': 2, 'CVE-2018-16845': 2, 'CVE-2018-16843': 2, 'CVE-2015-9251': 2, 'CVE-2017-7529': 1, 'CVE-2017-20005': 1, 'CVE-2012-6708': 1, 'CVE-2020-14145': 1, 'CVE-2020-15778': 1, 'CVE-2023-48795': 1, 'CVE-2016-20012': 1, 'CVE-2019-16905': 1, 'CVE-2007-2768': 1, 'CVE-2023-51767': 1, 'CVE-2008-3844': 1, 'CVE-2020-7656': 1, 'CVE-2021-36368': 1, 'CVE-2023-51385': 1, 'CVE-2023-38408': 1, 'CVE-2021-41617': 1, 'CVE-2015-0228': 1, 'CVE-2018-14040': 1, 'CVE-2018-20677': 1, 'CVE-2019-8331': 1, 'CVE-2018-20676': 1, 'CVE-2018-14042': 1})\n",
      "Vuln CVE-2021-26690 has a significant p-value: 0.03957262126773755\n",
      "Vuln CVE-2017-9788 has a significant p-value: 0.03957262126773755\n",
      "Vuln CVE-2016-8743 has a significant p-value: 0.03957262126773755\n",
      "Vuln CVE-2021-33193 has a significant p-value: 0.03957262126773755\n",
      "Vuln CVE-2019-0196 has a significant p-value: 0.03957262126773755\n",
      "Vuln CVE-2020-35452 has a significant p-value: 0.03957262126773755\n",
      "Vuln CVE-2017-3169 has a significant p-value: 0.03957262126773755\n",
      "Vuln CVE-2018-17199 has a significant p-value: 0.03957262126773755\n",
      "Vuln CVE-2016-4975 has a significant p-value: 0.03957262126773755\n",
      "Vuln CVE-2022-36760 has a significant p-value: 0.03957262126773755\n",
      "Vuln CVE-2023-45802 has a significant p-value: 0.03957262126773755\n",
      "Vuln CVE-2018-1312 has a significant p-value: 0.03957262126773755\n",
      "Vuln CVE-2022-23943 has a significant p-value: 0.03957262126773755\n",
      "Vuln CVE-2017-7679 has a significant p-value: 0.03957262126773755\n",
      "Vuln CVE-2016-4979 has a significant p-value: 0.03957262126773755\n",
      "Vuln CVE-2019-0211 has a significant p-value: 0.03957262126773755\n",
      "Vuln CVE-2019-10082 has a significant p-value: 0.03957262126773755\n",
      "Vuln CVE-2024-38474 has a significant p-value: 0.03957262126773755\n",
      "Vuln CVE-2019-0217 has a significant p-value: 0.03957262126773755\n",
      "Vuln CVE-2024-38476 has a significant p-value: 0.03957262126773755\n",
      "Vuln CVE-2016-5387 has a significant p-value: 0.03957262126773755\n",
      "Vuln CVE-2017-15710 has a significant p-value: 0.03957262126773755\n",
      "Vuln CVE-2019-10098 has a significant p-value: 0.03957262126773755\n",
      "Vuln CVE-2019-10092 has a significant p-value: 0.03957262126773755\n",
      "Vuln CVE-2022-26377 has a significant p-value: 0.03957262126773755\n",
      "Vuln CVE-2023-25690 has a significant p-value: 0.03957262126773755\n",
      "Vuln CVE-2020-1927 has a significant p-value: 0.03957262126773755\n",
      "Vuln CVE-2017-3167 has a significant p-value: 0.03957262126773755\n",
      "Vuln CVE-2021-44224 has a significant p-value: 0.03957262126773755\n",
      "Vuln CVE-2020-1934 has a significant p-value: 0.03957262126773755\n",
      "Vuln CVE-2021-26691 has a significant p-value: 0.03957262126773755\n",
      "Vuln CVE-2019-0220 has a significant p-value: 0.03957262126773755\n",
      "Vuln CVE-2024-27316 has a significant p-value: 0.03957262126773755\n",
      "Vuln CVE-2024-38477 has a significant p-value: 0.03957262126773755\n",
      "Vuln CVE-2017-15715 has a significant p-value: 0.03957262126773755\n",
      "Vuln CVE-2020-13938 has a significant p-value: 0.03957262126773755\n",
      "Vuln CVE-2019-17567 has a significant p-value: 0.03957262126773755\n",
      "Vuln CVE-2020-11985 has a significant p-value: 0.03957262126773755\n",
      "Vuln CVE-2016-1546 has a significant p-value: 0.03957262126773755\n",
      "Vuln CVE-2018-1333 has a significant p-value: 0.03957262126773755\n",
      "Vuln CVE-2016-8740 has a significant p-value: 0.03957262126773755\n",
      "Vuln CVE-2018-1283 has a significant p-value: 0.03957262126773755\n",
      "Vuln CVE-2018-17189 has a significant p-value: 0.03957262126773755\n",
      "Vuln CVE-2018-11763 has a significant p-value: 0.03957262126773755\n"
     ]
    }
   ],
   "source": [
    "vulns_count = Counter(vuln for vulns_list in IP_data['vulns'] for vuln in vulns_list)\n",
    "\n",
    "print(vulns_count)\n",
    "\n",
    "for vuln in vulns_count.keys():\n",
    "    IP_data[f'vuln_{vuln}'] = IP_data['vulns'].apply(lambda vulns: 1 if vuln in vulns else 0)\n",
    "\n",
    "for vuln in vulns_count.keys():\n",
    "    correlation, p_value = pearsonr(IP_data[f'vuln_{vuln}'], IP_data['Recall'])\n",
    "    if p_value < 0.05:\n",
    "        print(f\"Vuln {vuln} is significant. p-value: {p_value}\")\n"
   ]
  },
  {
   "cell_type": "markdown",
   "metadata": {},
   "source": [
    "#### Results\n",
    "\n",
    "| Year | Significant Vulnerabilities |\n",
    "|------|----------------|\n",
    "| 2016 | 8743, 4975, 4979, 5387, 1546, 8740 |\n",
    "| 2017 | 9788, 3169, 7679, 15710, 3167, 15715 |\n",
    "| 2018 | 17199, 1312, 1333, 1283, 17189, 11763 |\n",
    "| 2019 | 0196, 0211, 10082, 0217, 10098, 10092, 0220, 17567 |\n",
    "| 2020 | 35452, 1927, 1934, 13938, 11985 |\n",
    "| 2021 | 26690, 33193, 44224, 26691 |\n",
    "| 2022 | 36760, 23943, 26377 |\n",
    "| 2023 | 45802, 25690 |\n",
    "| 2024 | 38474, 38476, 27316, 38477 |"
   ]
  },
  {
   "cell_type": "markdown",
   "metadata": {},
   "source": [
    "### Are any tags associated with lower recalls?"
   ]
  },
  {
   "cell_type": "code",
   "execution_count": 354,
   "metadata": {},
   "outputs": [
    {
     "name": "stdout",
     "output_type": "stream",
     "text": [
      "Counter({'cloud': 254, 'cdn': 28, 'self-signed': 8, 'eol-product': 8, 'starttls': 1, 'database': 1})\n"
     ]
    }
   ],
   "source": [
    "tag_counts = Counter(tag for tags_list in IP_data['tags'] for tag in tags_list)\n",
    "\n",
    "print(tag_counts)"
   ]
  },
  {
   "cell_type": "code",
   "execution_count": 355,
   "metadata": {},
   "outputs": [
    {
     "name": "stdout",
     "output_type": "stream",
     "text": [
      "<class 'pandas.core.frame.DataFrame'>\n",
      "RangeIndex: 264 entries, 0 to 263\n",
      "Data columns (total 43 columns):\n",
      " #   Column           Non-Null Count  Dtype  \n",
      "---  ------           --------------  -----  \n",
      " 0   IP               264 non-null    object \n",
      " 1   open_ports       264 non-null    object \n",
      " 2   tags             264 non-null    object \n",
      " 3   vulns            264 non-null    object \n",
      " 4   camera_model     264 non-null    object \n",
      " 5   Recall           264 non-null    float64\n",
      " 6   num_OPs          264 non-null    int64  \n",
      " 7   port_80          264 non-null    int64  \n",
      " 8   port_443         264 non-null    int64  \n",
      " 9   port_1443        264 non-null    int64  \n",
      " 10  port_1883        264 non-null    int64  \n",
      " 11  port_10001       264 non-null    int64  \n",
      " 12  port_2121        264 non-null    int64  \n",
      " 13  port_5003        264 non-null    int64  \n",
      " 14  port_53          264 non-null    int64  \n",
      " 15  port_25          264 non-null    int64  \n",
      " 16  port_110         264 non-null    int64  \n",
      " 17  port_587         264 non-null    int64  \n",
      " 18  port_993         264 non-null    int64  \n",
      " 19  port_995         264 non-null    int64  \n",
      " 20  port_2003        264 non-null    int64  \n",
      " 21  port_444         264 non-null    int64  \n",
      " 22  port_22          264 non-null    int64  \n",
      " 23  port_123         264 non-null    int64  \n",
      " 24  port_8006        264 non-null    int64  \n",
      " 25  port_9200        264 non-null    int64  \n",
      " 26  port_8080        264 non-null    int64  \n",
      " 27  port_32100       264 non-null    int64  \n",
      " 28  port_3001        264 non-null    int64  \n",
      " 29  port_6000        264 non-null    int64  \n",
      " 30  port_8088        264 non-null    int64  \n",
      " 31  port_5000        264 non-null    int64  \n",
      " 32  port_7415        264 non-null    int64  \n",
      " 33  port_26656       264 non-null    int64  \n",
      " 34  port_5432        264 non-null    int64  \n",
      " 35  port_9109        264 non-null    int64  \n",
      " 36  num_vulns        264 non-null    int64  \n",
      " 37  tag_cloud        264 non-null    int64  \n",
      " 38  tag_self-signed  264 non-null    int64  \n",
      " 39  tag_eol-product  264 non-null    int64  \n",
      " 40  tag_cdn          264 non-null    int64  \n",
      " 41  tag_starttls     264 non-null    int64  \n",
      " 42  tag_database     264 non-null    int64  \n",
      "dtypes: float64(1), int64(37), object(5)\n",
      "memory usage: 88.8+ KB\n"
     ]
    }
   ],
   "source": [
    "for tag in tag_counts.keys():\n",
    "    IP_data[f'tag_{tag}'] = IP_data['tags'].apply(lambda tags: 1 if tag in tags else 0)\n",
    "\n",
    "\n",
    "IP_data.info()"
   ]
  },
  {
   "cell_type": "code",
   "execution_count": null,
   "metadata": {},
   "outputs": [
    {
     "name": "stdout",
     "output_type": "stream",
     "text": [
      "Cloud\n",
      "Pearson correlation coefficient: 0.08071101076494513\n",
      "P-value: 0.19110757461343303\n",
      "self_signed\n",
      "Pearson correlation coefficient: -0.026894017290070415\n",
      "P-value: 0.6635760627028047\n",
      "cdn\n",
      "Pearson correlation coefficient: 0.32157187939883064\n",
      "P-value: 9.156699138662372e-08\n",
      "eol_product\n",
      "Pearson correlation coefficient: -0.11800765722561866\n",
      "P-value: 0.0554930876588917\n",
      "starttls\n",
      "Pearson correlation coefficient: -0.07290753045365297\n",
      "P-value: 0.23777847169932306\n",
      "database\n",
      "Pearson correlation coefficient: 0.05756747425513874\n",
      "P-value: 0.3514940810155973\n"
     ]
    }
   ],
   "source": [
    "# Ai ----------------------------------------\n",
    "print(\"Cloud\")\n",
    "correlation, p_value = pearsonr(IP_data['tag_cloud'], IP_data['Recall'])\n",
    "\n",
    "print(f\"Pearson correlation coefficient: {correlation}\")\n",
    "print(f\"P-value: {p_value}\")\n",
    "\n",
    "print(\"self_signed\")\n",
    "correlation, p_value = pearsonr(IP_data['tag_self-signed'], IP_data['Recall'])\n",
    "\n",
    "print(f\"Pearson correlation coefficient: {correlation}\")\n",
    "print(f\"P-value: {p_value}\")\n",
    "\n",
    "print(\"cdn\")\n",
    "correlation, p_value = pearsonr(IP_data['tag_cdn'], IP_data['Recall'])\n",
    "\n",
    "print(f\"Pearson correlation coefficient: {correlation}\")\n",
    "print(f\"P-value: {p_value}\")\n",
    "\n",
    "print(\"eol_product\")\n",
    "correlation, p_value = pearsonr(IP_data['tag_eol-product'], IP_data['Recall'])\n",
    "\n",
    "print(f\"Pearson correlation coefficient: {correlation}\")\n",
    "print(f\"P-value: {p_value}\")\n",
    "\n",
    "print(\"starttls\")\n",
    "correlation, p_value = pearsonr(IP_data['tag_starttls'], IP_data['Recall'])\n",
    "\n",
    "print(f\"Pearson correlation coefficient: {correlation}\")\n",
    "print(f\"P-value: {p_value}\")\n",
    "\n",
    "\n",
    "print(\"database\")\n",
    "correlation, p_value = pearsonr(IP_data['tag_database'], IP_data['Recall'])\n",
    "\n",
    "print(f\"Pearson correlation coefficient: {correlation}\")\n",
    "print(f\"P-value: {p_value}\")\n"
   ]
  },
  {
   "cell_type": "markdown",
   "metadata": {},
   "source": [
    "#### Results\n",
    "- eol product is close to 0.05 alpha but not less, none are significantly correlated at 0.05 level\n",
    "- eol product is end of life product\n",
    "    - no longer recieve updates from vendor\n",
    "        - unpatched vulns"
   ]
  }
 ],
 "metadata": {
  "kernelspec": {
   "display_name": "spring2025_VENV",
   "language": "python",
   "name": "python3"
  },
  "language_info": {
   "codemirror_mode": {
    "name": "ipython",
    "version": 3
   },
   "file_extension": ".py",
   "mimetype": "text/x-python",
   "name": "python",
   "nbconvert_exporter": "python",
   "pygments_lexer": "ipython3",
   "version": "3.12.2"
  }
 },
 "nbformat": 4,
 "nbformat_minor": 2
}
